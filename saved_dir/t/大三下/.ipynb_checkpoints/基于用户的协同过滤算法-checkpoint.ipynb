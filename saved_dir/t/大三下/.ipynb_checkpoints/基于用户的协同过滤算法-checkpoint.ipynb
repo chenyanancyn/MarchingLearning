{
 "cells": [
  {
   "cell_type": "code",
   "execution_count": 1,
   "metadata": {
    "collapsed": true
   },
   "outputs": [],
   "source": [
    "import numpy as np\n",
    "import pandas as pd"
   ]
  },
  {
   "cell_type": "markdown",
   "metadata": {
    "collapsed": true
   },
   "source": [
    "### 1.读取数据集"
   ]
  },
  {
   "cell_type": "code",
   "execution_count": 2,
   "metadata": {
    "collapsed": true
   },
   "outputs": [],
   "source": [
    "# train\n",
    "train_df = pd.read_csv('./ml-100k/u2.base', header=None, index_col=None)\n",
    "# print(type(train_data))\n",
    "train_data = train_df.values\n",
    "# print(train_data)   # numpy\n",
    "# print(train_data[0][0].split('\\t'))  # ['1', '3', '4', '878542960']\n",
    "\n",
    "# test\n",
    "test_df = pd.read_csv('./ml-100k/u2.test')\n",
    "test_data = test_df.values"
   ]
  },
  {
   "cell_type": "markdown",
   "metadata": {},
   "source": [
    "### 整理数据集\n",
    "矩阵：横坐标表示对应一个用户给一个电影打的分数， 纵坐标表示用户id"
   ]
  },
  {
   "cell_type": "code",
   "execution_count": 3,
   "metadata": {
    "collapsed": true
   },
   "outputs": [],
   "source": [
    "# train\n",
    "u2_items = {}\n",
    "for data in train_data:\n",
    "    sample = data[0].split('\\t')\n",
    "    if u2_items.get(sample[0]) is None:\n",
    "        u2_items[sample[0]] = []\n",
    "    u2_items[sample[0]].append(sample[1])\n",
    "\n",
    "\n",
    "\n",
    "# print(u2_items)\n",
    "\n",
    "# print(set(u2_items['1']) & set(u2_items['2']))\n",
    "# print(len(set(u2_items['1']) & set(u2_items['2'])))\n",
    "        "
   ]
  },
  {
   "cell_type": "markdown",
   "metadata": {},
   "source": [
    "### 基础算法\n",
    "\n",
    "#### 找到和目标用户兴趣相似的用户集合\n",
    "** 利用行为的相似度计算兴趣的相似度\n",
    "\n",
    "*实现余弦相似度"
   ]
  },
  {
   "cell_type": "code",
   "execution_count": 4,
   "metadata": {
    "collapsed": true
   },
   "outputs": [],
   "source": [
    "def user_similarity(train):\n",
    "    import math\n",
    "    \n",
    "    w = dict()\n",
    "    for u in train.keys():\n",
    "        for v in train.keys():\n",
    "            if u == v:\n",
    "                continue\n",
    "            uv = u + '|' + v\n",
    "            w[uv] = len(set(u2_items[u]) & set(u2_items[v]))\n",
    "            w[uv] = w[uv] / math.sqrt(len(train[u]) * len(train[v]))\n",
    "            \n",
    "    return w\n",
    "\n",
    "# print(user_similarity(u2_items))"
   ]
  },
  {
   "cell_type": "markdown",
   "metadata": {},
   "source": [
    "#### 改进：用户的倒排表\n",
    "* 自己写的，速度较慢"
   ]
  },
  {
   "cell_type": "code",
   "execution_count": null,
   "metadata": {
    "collapsed": true
   },
   "outputs": [],
   "source": [
    "# 共有1682部电影\n",
    "item_u2s = {}\n",
    "for i in range(1, 1683):\n",
    "#     if i%100 == 0:\n",
    "#         print(i)\n",
    "    key = str(i)\n",
    "    for data in train_data:\n",
    "        sample = data[0].split('\\t')\n",
    "        if sample[1] == key:\n",
    "            if item_u2s.get(key) is None:\n",
    "                item_u2s[key] = []\n",
    "            item_u2s[key].append(sample[0])\n",
    "\n",
    "# print(item_u2s)"
   ]
  },
  {
   "cell_type": "markdown",
   "metadata": {},
   "source": [
    "* 书上代码，速度快"
   ]
  },
  {
   "cell_type": "code",
   "execution_count": 5,
   "metadata": {
    "collapsed": true
   },
   "outputs": [],
   "source": [
    "def item_us(train):\n",
    "    import math\n",
    "    \n",
    "    # build inverse table for item_u2s\n",
    "    item_users = dict()\n",
    "    for u, items in train.items():\n",
    "        for i in items:\n",
    "            if i not in item_users:\n",
    "                item_users[i] = set()\n",
    "            item_users[i].add(u)\n",
    "    return item_users\n",
    "        \n",
    "# print(user_similarity(u2_items))"
   ]
  },
  {
   "cell_type": "code",
   "execution_count": 8,
   "metadata": {},
   "outputs": [
    {
     "name": "stderr",
     "output_type": "stream",
     "text": [
      "IOPub data rate exceeded.\n",
      "The notebook server will temporarily stop sending output\n",
      "to the client in order to avoid crashing it.\n",
      "To change this limit, set the config variable\n",
      "`--NotebookApp.iopub_data_rate_limit`.\n"
     ]
    }
   ],
   "source": [
    "def user_similarity(train):\n",
    "    import math\n",
    "    # build inverse table for item_users\n",
    "    item_users = item_us(train)\n",
    "    # calculate co-related items between users\n",
    "    C = dict()\n",
    "    N = dict()\n",
    "    for i, users in item_users.items():\n",
    "        for u in users:\n",
    "            N[u] = N.get(u, 0) + 1\n",
    "            for v in users:\n",
    "                if u == v:\n",
    "                    continue\n",
    "                key = u + '|' + v\n",
    "                C[key] = C.get(key, 0) + 1\n",
    "    print(C.values)\n",
    "    \n",
    "#     # caculate final similarity matrix W\n",
    "#     W = dict()\n",
    "#     for u, related_users in C.items():\n",
    "user_similarity(u2_items)\n",
    "        "
   ]
  },
  {
   "cell_type": "code",
   "execution_count": null,
   "metadata": {
    "collapsed": true
   },
   "outputs": [],
   "source": []
  },
  {
   "cell_type": "code",
   "execution_count": null,
   "metadata": {
    "collapsed": true
   },
   "outputs": [],
   "source": []
  },
  {
   "cell_type": "code",
   "execution_count": null,
   "metadata": {
    "collapsed": true
   },
   "outputs": [],
   "source": []
  },
  {
   "cell_type": "code",
   "execution_count": null,
   "metadata": {
    "collapsed": true
   },
   "outputs": [],
   "source": []
  },
  {
   "cell_type": "code",
   "execution_count": null,
   "metadata": {
    "collapsed": true
   },
   "outputs": [],
   "source": []
  },
  {
   "cell_type": "code",
   "execution_count": null,
   "metadata": {
    "collapsed": true
   },
   "outputs": [],
   "source": []
  },
  {
   "cell_type": "code",
   "execution_count": null,
   "metadata": {
    "collapsed": true
   },
   "outputs": [],
   "source": []
  },
  {
   "cell_type": "code",
   "execution_count": null,
   "metadata": {
    "collapsed": true
   },
   "outputs": [],
   "source": []
  },
  {
   "cell_type": "code",
   "execution_count": null,
   "metadata": {
    "collapsed": true
   },
   "outputs": [],
   "source": []
  },
  {
   "cell_type": "code",
   "execution_count": null,
   "metadata": {
    "collapsed": true
   },
   "outputs": [],
   "source": []
  },
  {
   "cell_type": "code",
   "execution_count": null,
   "metadata": {
    "collapsed": true
   },
   "outputs": [],
   "source": []
  },
  {
   "cell_type": "code",
   "execution_count": null,
   "metadata": {
    "collapsed": true
   },
   "outputs": [],
   "source": []
  }
 ],
 "metadata": {
  "kernelspec": {
   "display_name": "Python 3",
   "language": "python",
   "name": "python3"
  },
  "language_info": {
   "codemirror_mode": {
    "name": "ipython",
    "version": 3
   },
   "file_extension": ".py",
   "mimetype": "text/x-python",
   "name": "python",
   "nbconvert_exporter": "python",
   "pygments_lexer": "ipython3",
   "version": "3.6.2"
  }
 },
 "nbformat": 4,
 "nbformat_minor": 2
}
