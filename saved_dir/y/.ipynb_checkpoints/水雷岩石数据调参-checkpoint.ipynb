{
 "cells": [
  {
   "cell_type": "code",
   "execution_count": 1,
   "metadata": {
    "collapsed": true
   },
   "outputs": [],
   "source": [
    "import pandas as pd\n",
    "import numpy as np\n",
    "import matplotlib.pylab as plt\n",
    "\n",
    "from sklearn.ensemble import RandomForestClassifier\n",
    "from sklearn import  metrics\n",
    "from sklearn.model_selection import cross_val_score\n",
    "from sklearn.utils import shuffle\n",
    "import warnings\n",
    "warnings.filterwarnings('ignore')\n",
    "\n",
    "plt.rcParams['font.sans-serif'] = ['SimHei']  \n",
    "plt.rcParams['axes.unicode_minus'] = False  \n",
    "\n",
    "data_df=pd.read_csv('sonar.csv',header=None,index_col=None)\n",
    "\n",
    "\n",
    "#首先查看分类的分布情况\n",
    "#查看特征属性\n",
    "#查看连续特征的分布情况：箱线图\n",
    "    #删除异常点\n",
    "#查看特征之间的相关性-包括各个特征与标签的相关性\n",
    "    #特征选择：特征删除，特征组合\n",
    "#缺失值的填充\n",
    "#模型调参"
   ]
  },
  {
   "cell_type": "code",
   "execution_count": 1,
   "metadata": {
    "collapsed": true
   },
   "outputs": [],
   "source": [
    "from sklearn.ensemble import RandomForestClassifier\n",
    "??RandomForestClassifier"
   ]
  },
  {
   "cell_type": "code",
   "execution_count": 16,
   "metadata": {
    "scrolled": true
   },
   "outputs": [
    {
     "name": "stdout",
     "output_type": "stream",
     "text": [
      "60\n",
      "M    0.533654\n",
      "R    0.466346\n",
      "Name: 60, dtype: float64\n"
     ]
    }
   ],
   "source": [
    "#查看分布情况\n",
    "grouped=data_df[60].groupby(data_df[60])\n",
    "print(grouped.count()/data_df[60].count())\n"
   ]
  },
  {
   "cell_type": "code",
   "execution_count": 18,
   "metadata": {},
   "outputs": [
    {
     "name": "stdout",
     "output_type": "stream",
     "text": [
      "Int64Index([ 0,  1,  2,  3,  4,  5,  6,  7,  8,  9, 10, 11, 12, 13, 14, 15, 16,\n",
      "            17, 18, 19, 20, 21, 22, 23, 24, 25, 26, 27, 28, 29, 30, 31, 32, 33,\n",
      "            34, 35, 36, 37, 38, 39, 40, 41, 42, 43, 44, 45, 46, 47, 48, 49, 50,\n",
      "            51, 52, 53, 54, 55, 56, 57, 58, 59],\n",
      "           dtype='int64')\n",
      "60\n",
      "Int64Index([60], dtype='int64')\n",
      "1\n"
     ]
    }
   ],
   "source": [
    "#找到字符型特征和数字型特征\n",
    "numeric_feats=data_df.dtypes[data_df.dtypes!='object'].index\n",
    "print(numeric_feats)\n",
    "print(len(numeric_feats))\n",
    "categorical_feats=data_df.dtypes[data_df.dtypes=='object'].index\n",
    "print(categorical_feats)\n",
    "print(len(categorical_feats))"
   ]
  },
  {
   "cell_type": "code",
   "execution_count": 20,
   "metadata": {},
   "outputs": [
    {
     "name": "stdout",
     "output_type": "stream",
     "text": [
      "61\n"
     ]
    },
    {
     "data": {
      "image/png": "[encoded data removed]",
      "text/plain": [
       "<Figure size 432x288 with 1 Axes>"
      ]
     },
     "metadata": {},
     "output_type": "display_data"
    }
   ],
   "source": [
    "####对前十个特征进行标准化并查看箱线图\n",
    "summary=data_df.describe()\n",
    "col_num=len(data_df.columns)\n",
    "print(col_num)\n",
    "for i in range(10):\n",
    "    data_df.iloc[:,i]=(data_df.iloc[:,i]-summary.iloc[1,i])/summary.iloc[2,i]\n",
    "plt.boxplot(data_df.iloc[:,:10].values)\n",
    "plt.show()"
   ]
  },
  {
   "cell_type": "code",
   "execution_count": 21,
   "metadata": {
    "collapsed": true
   },
   "outputs": [],
   "source": [
    "######删除几个带极端值的样本\n",
    "data_df.drop(data_df[data_df[0]>4].index,inplace=True)\n",
    "data_df.drop(data_df[data_df[1]>3].index,inplace=True)\n",
    "data_df.drop(data_df[data_df[2]>3.5].index,inplace=True)\n",
    "data_df.drop(data_df[data_df[3]>4].index,inplace=True)\n",
    "data_df.drop(data_df[data_df[4]>4].index,inplace=True)\n",
    "data_df.drop(data_df[data_df[4]>5].index,inplace=True)"
   ]
  },
  {
   "cell_type": "code",
   "execution_count": 22,
   "metadata": {
    "collapsed": true
   },
   "outputs": [],
   "source": [
    "\n",
    "#将字符改成类别标签\n",
    "data_df[60]=data_df[60].map({'M':0,'R':1})\n",
    "# print(df[60].value_counts())\n",
    "labels=data_df.pop(60)\n",
    "\n",
    "labels=labels.values\n",
    "fea=data_df.values\n"
   ]
  },
  {
   "cell_type": "code",
   "execution_count": 23,
   "metadata": {
    "collapsed": true
   },
   "outputs": [],
   "source": [
    "X,y=shuffle(fea,labels,random_state=5)"
   ]
  },
  {
   "cell_type": "code",
   "execution_count": 24,
   "metadata": {},
   "outputs": [
    {
     "name": "stdout",
     "output_type": "stream",
     "text": [
      "oob_score 0.674877\n",
      "AUC Score (Train): 1.000000\n",
      "Accuracy 1.000000\n"
     ]
    }
   ],
   "source": [
    "##先观察模型对训练集进行训练后的效果；不区分训练验证测试\n",
    "rf0 = RandomForestClassifier(oob_score=True, random_state=10)\n",
    "rf0.fit(X,y)\n",
    "\n",
    "print ('oob_score %f' % rf0.oob_score_)\n",
    "y_predprob = rf0.predict_proba(X)[:,1]\n",
    "y_pred=rf0.predict(X)\n",
    "print (\"AUC Score (Train): %f\" % metrics.roc_auc_score(y, y_predprob))\n",
    "print(\"Accuracy %f\"% metrics.accuracy_score(y,y_pred))\n",
    "\n",
    "###此时AUC和accuracy都比较高，但是oob_score 比较低，说明过拟合了"
   ]
  },
  {
   "cell_type": "code",
   "execution_count": 25,
   "metadata": {},
   "outputs": [
    {
     "name": "stdout",
     "output_type": "stream",
     "text": [
      "oob_score 0.773006\n",
      "AUC Score : 0.880000\n",
      "Accuracy 0.800000\n"
     ]
    }
   ],
   "source": [
    "rf0 = RandomForestClassifier(n_estimators=30,oob_score=True,random_state=5)\n",
    "x_test=X[-40:];y_test=y[-40:]\n",
    "x_train=X[:-40];y_train=y[:-40]\n",
    "\n",
    "\n",
    "\n",
    "rf0.fit(x_train,y_train)\n",
    "print ('oob_score %f' % rf0.oob_score_)\n",
    "\n",
    "y_predprob = rf0.predict_proba(x_test)[:,1]\n",
    "y_pred=rf0.predict(x_test)\n",
    "print (\"AUC Score : %f\" % metrics.roc_auc_score(y_test, y_predprob))\n",
    "print(\"Accuracy %f\"% metrics.accuracy_score(y_test,y_pred))\n",
    "\n"
   ]
  },
  {
   "cell_type": "code",
   "execution_count": 26,
   "metadata": {},
   "outputs": [
    {
     "name": "stdout",
     "output_type": "stream",
     "text": [
      "[0.79411765 0.82352941 0.76470588 0.82352941 0.88235294 0.81818182]\n",
      "[0.8025846702317291, 0.8327391562685681, 0.8172905525846703, 0.8126856803327391, 0.8226381461675579, 0.8177361853832443]\n"
     ]
    },
    {
     "data": {
      "image/png": "[encoded data removed]",
      "text/plain": [
       "<Figure size 432x288 with 1 Axes>"
      ]
     },
     "metadata": {},
     "output_type": "display_data"
    }
   ],
   "source": [
    "####第一种方法，利用交叉验证方法对变量逐一进行调整\n",
    "from sklearn.model_selection import cross_val_score\n",
    "\n",
    "def rmse_cv(model,X_train,y):\n",
    "    rmse = cross_val_score(model, X_train, y, \n",
    "                                    scoring='accuracy',#\"roc_auc\",\n",
    "                                   cv = 6)\n",
    "    return rmse\n",
    "\n",
    "cv_rf=rmse_cv(rf0,X,y)\n",
    "print(cv_rf)\n",
    "NS=range(30,81,10)\n",
    "cv_rf1=[rmse_cv(RandomForestClassifier(n_estimators=ns,oob_score=True),X,y).mean() for ns in NS]\n",
    "print(cv_rf1)\n",
    "# dict(xgb_params, silent=1)\n",
    "\n",
    "plt.plot(NS,cv_rf1)\n",
    "plt.show()\n"
   ]
  },
  {
   "cell_type": "code",
   "execution_count": 27,
   "metadata": {},
   "outputs": [
    {
     "name": "stdout",
     "output_type": "stream",
     "text": [
      "[0.8172905525846703, 0.8272430184194889, 0.7878787878787877, 0.782976827094474, 0.782976827094474, 0.782976827094474, 0.782976827094474]\n"
     ]
    },
    {
     "data": {
      "image/png": "[encoded data removed]",
      "text/plain": [
       "<Figure size 432x288 with 1 Axes>"
      ]
     },
     "metadata": {},
     "output_type": "display_data"
    }
   ],
   "source": [
    "MD=range(5,12,1)\n",
    "cv_rf1=[rmse_cv(RandomForestClassifier(n_estimators=40,max_depth=md,oob_score=True,random_state=10),X,y).mean() for md in MD]\n",
    "print(cv_rf1)\n",
    "# dict(xgb_params, silent=1)\n",
    "\n",
    "\n",
    "plt.plot(MD,cv_rf1)\n",
    "plt.show()"
   ]
  },
  {
   "cell_type": "code",
   "execution_count": 33,
   "metadata": {},
   "outputs": [
    {
     "name": "stdout",
     "output_type": "stream",
     "text": [
      "oob_score 0.793103\n"
     ]
    }
   ],
   "source": [
    "#检查#oob_score是否有上升\n",
    "rf1 = RandomForestClassifier(n_estimators= 40, max_depth=6, max_features=5,min_samples_split=2,\n",
    "\tmin_samples_leaf=1 ,oob_score=True)\n",
    "rf1.fit(X,y)\n",
    "print ('oob_score %f' % rf1.oob_score_)\n",
    "\n",
    "#比原来的oob score有所提升"
   ]
  },
  {
   "cell_type": "code",
   "execution_count": 30,
   "metadata": {},
   "outputs": [
    {
     "name": "stdout",
     "output_type": "stream",
     "text": [
      "oob_score 0.809816\n",
      "AUC Score (Test): 0.893333\n"
     ]
    }
   ],
   "source": [
    "##最后检查oob和AUC\n",
    "x_test=X[-40:];y_test=y[-40:]\n",
    "x_train=X[:-40];y_train=y[:-40]\n",
    "rf = RandomForestClassifier(n_estimators=40, max_depth=6, max_features=5,min_samples_split=2,\n",
    "                            min_samples_leaf=1 ,oob_score=True,random_state=5)\n",
    "rf.fit(x_train,y_train)\n",
    "print ('oob_score %f' % rf.oob_score_)\n",
    "y_predprob = rf.predict_proba(x_test)[:,1]\n",
    "print (\"AUC Score (Test): %f\" % metrics.roc_auc_score(y_test, y_predprob))\n",
    "\n",
    "###进行完参数选择之后，oob_score 和AUC值均有所提高\n",
    "###数据集小，所以最终的效果变化不大"
   ]
  },
  {
   "cell_type": "code",
   "execution_count": null,
   "metadata": {
    "collapsed": true
   },
   "outputs": [],
   "source": [
    "#################下面的内容是自己写的画ROC曲线和AUC值##############"
   ]
  },
  {
   "cell_type": "code",
   "execution_count": 2,
   "metadata": {},
   "outputs": [
    {
     "name": "stdout",
     "output_type": "stream",
     "text": [
      "the auc is 0.875.\n"
     ]
    }
   ],
   "source": [
    "import numpy as np\n",
    "\n",
    "y_test=np.array([1,1,1,0,0,0,1,0,0,0])\n",
    "y_predprob=[0.49,0.94,0.56,0.05,0.53,0.27,0.9,0.58,0.32,0.21]\n",
    "# y_predprob=[0.75, 0.52,0.83,0.30, 0.13, 0.48,0.40,0.14,0.38, 0.30]\n",
    "y_set=list(set(y_predprob))\n",
    "y_set.append(1)#避免了TPR，FPR取不到（0,0）的情况\n",
    "y_set.sort(reverse=True)\n",
    "y_predprob=np.array(y_predprob)\n",
    "xy_arr=[]\n",
    "for i in y_set:\n",
    "    p1=y_test[y_predprob>=i]\n",
    "    p0=y_test[y_predprob<i]\n",
    "    fpR=len(p1[p1==0])/(len(p1[p1==0])+len(p0[p0==0]))\n",
    "    tpR=len(p1[p1==1])/(len(p1[p1==1])+len(p0[p0==1]))\n",
    "    xy_arr.append([fpR,tpR])\n",
    "\n",
    "\n",
    "#计算曲线下面积即AUC\n",
    "auc = 0.\n",
    "prev_x = 0\n",
    "for y,x in xy_arr:\n",
    "    if y != prev_x:\n",
    "        auc += (y - prev_x) * x\n",
    "        prev_x = y\n",
    "print( \"the auc is %s.\"%auc)\n",
    "\n",
    "x = [_v[0] for _v in xy_arr]\n",
    "y = [_v[1] for _v in xy_arr]\n",
    "# plt.title(\"ROC curve of %s (AUC = %.4f)\" % ('test' , 0.96))\n",
    "plt.ylabel(\"True Positive Rate\")\n",
    "plt.xlabel(\"False Positive Rate\")\n",
    "plt.plot(x ,y,c='b')\n",
    "\n",
    "plt.plot([0,1],[0,1],c='g')\n",
    "plt.show()"
   ]
  },
  {
   "cell_type": "code",
   "execution_count": null,
   "metadata": {
    "collapsed": true
   },
   "outputs": [],
   "source": []
  }
 ],
 "metadata": {
  "kernelspec": {
   "display_name": "Python 3",
   "language": "python",
   "name": "python3"
  },
  "language_info": {
   "codemirror_mode": {
    "name": "ipython",
    "version": 3
   },
   "file_extension": ".py",
   "mimetype": "text/x-python",
   "name": "python",
   "nbconvert_exporter": "python",
   "pygments_lexer": "ipython3",
   "version": "3.6.2"
  }
 },
 "nbformat": 4,
 "nbformat_minor": 2
}
